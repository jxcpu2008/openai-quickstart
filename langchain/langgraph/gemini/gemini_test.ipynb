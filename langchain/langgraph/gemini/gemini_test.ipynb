{
 "cells": [
  {
   "cell_type": "code",
   "execution_count": null,
   "id": "6ca4f5fc-0080-4898-b24f-d780213e5233",
   "metadata": {},
   "outputs": [],
   "source": [
    "import os\n",
    "# 开启 LangSmith 跟踪，便于调试和查看详细执行信息\n",
    "# os.environ[\"LANGSMITH_TRACING\"] = \"true\"\n",
    "# os.environ[\"LANGSMITH_ENDPOINT\"] = \"https://api.smith.langchain.com\"\n",
    "# os.environ[\"LANGCHAIN_PROJECT\"] = \"GeminiChatBot\""
   ]
  },
  {
   "cell_type": "code",
   "execution_count": 2,
   "id": "1cee0bc4-7a94-4d5f-a9d1-38f94f995812",
   "metadata": {},
   "outputs": [
    {
     "name": "stdout",
     "output_type": "stream",
     "text": [
      "Google Gemini是谷歌推出的一款先进的多模态人工智能模型，能够理解和生成文本、图像、音频等多种信息格式。\n"
     ]
    }
   ],
   "source": [
    "from google import genai\n",
    "\n",
    "client = genai.Client()\n",
    "\n",
    "response = client.models.generate_content(\n",
    "    model=\"gemini-2.5-flash\",\n",
    "    contents=\"用一句话介绍下 google gemini\",\n",
    ")\n",
    "\n",
    "print(response.text)"
   ]
  },
  {
   "cell_type": "code",
   "execution_count": 4,
   "id": "120b4270-3c1d-4a48-b936-a01063984fb4",
   "metadata": {},
   "outputs": [
    {
     "name": "stdout",
     "output_type": "stream",
     "text": [
      "Proxy test successful: 200\n"
     ]
    }
   ],
   "source": [
    "import requests\n",
    "\n",
    "try:\n",
    "    response = requests.get(\"https://www.google.com\", timeout=10)\n",
    "    print(f\"Proxy test successful: {response.status_code}\")\n",
    "except requests.exceptions.RequestException as e:\n",
    "    print(f\"Proxy test failed: {e}\")"
   ]
  },
  {
   "cell_type": "code",
   "execution_count": null,
   "id": "d4040d10-a929-453e-948d-78ca615d7d2c",
   "metadata": {},
   "outputs": [],
   "source": [
    "from datetime import datetime\n",
    "from langchain_google_genai import ChatGoogleGenerativeAI\n",
    "from langchain_core.messages import HumanMessage, AIMessage\n",
    "from google.api_core.exceptions import DeadlineExceeded, PermissionDenied\n",
    "\n",
    "# Read your API key from the environment variable or set it manually\n",
    "api_key = os.getenv(\"GEMINI_API_KEY\")\n",
    "print(api_key)\n",
    "\n",
    "# 确保在 JupyterLab 单元格中设置了环境变量\n",
    "if api_key is None:\n",
    "    print(\"Warning: GEMINI_API_KEY not found in environment variables. Trying GOOGLE_API_KEY...\")\n",
    "    api_key = os.getenv(\"GOOGLE_API_KEY\")\n",
    "    if api_key is None:\n",
    "        print(\"Error: Neither GEMINI_API_KEY nor GOOGLE_API_KEY found. Please set one.\")\n",
    "        # 如果没有API密钥，直接退出或抛出错误\n",
    "        raise ValueError(\"API key not set. Please set GOOGLE_API_KEY or GEMINI_API_KEY environment variable.\")\n",
    "\n",
    "print(f\"Using API key (first 5 chars): {api_key[:5]}*****\")\n",
    "\n",
    "# 初始化一个 Gemini 2.5 pro 模型\n",
    "llm = ChatGoogleGenerativeAI(\n",
    "    model = \"gemini-2.5-flash\",\n",
    "    temperature = 1.0,\n",
    "    max_retries = 2,\n",
    "    google_api_key = api_key,\n",
    ")\n",
    "\n",
    "# Test the model with tools\n",
    "try:\n",
    "    # llm.invoke 通常需要一个 BaseMessage 列表作为输入\n",
    "    # datetime.today() 会包含时间戳，可能不是模型期望的日期格式，简化一下\n",
    "    current_date = datetime.today().strftime(\"%Y-%m-%d\")\n",
    "    question_message = HumanMessage(content=f\"What is the weather in Berlin on {current_date}?\")\n",
    "    print(f\"\\nSending request to LLM: {question_message.content}\")\n",
    "\n",
    "    res = llm.invoke([question_message]) # 传入消息列表\n",
    "    print(\"\\n--- LLM Response ---\")\n",
    "    print(res.content) # 访问 content 属性来获取字符串回复\n",
    "except DeadlineExceeded:\n",
    "    print(\"Request timed out.\")\n",
    "except PermissionDenied:\n",
    "    print(\"Permission denied. Check your API key and model access.\")\n",
    "except Exception as e:\n",
    "    print(f\"\\n--- An error occurred: {e} ---\")"
   ]
  }
 ],
 "metadata": {
  "kernelspec": {
   "display_name": "Python 3 (ipykernel)",
   "language": "python",
   "name": "python3"
  },
  "language_info": {
   "codemirror_mode": {
    "name": "ipython",
    "version": 3
   },
   "file_extension": ".py",
   "mimetype": "text/x-python",
   "name": "python",
   "nbconvert_exporter": "python",
   "pygments_lexer": "ipython3",
   "version": "3.10.18"
  }
 },
 "nbformat": 4,
 "nbformat_minor": 5
}
